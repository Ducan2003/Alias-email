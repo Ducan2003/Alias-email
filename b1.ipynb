{
 "cells": [
  {
   "cell_type": "code",
   "execution_count": 19,
   "metadata": {},
   "outputs": [
    {
     "name": "stdout",
     "output_type": "stream",
     "text": [
      "   Số thứ tự          Họ    Tên               Alias\n",
      "0          1  Nguyễn Van      A      a@platihub.com\n",
      "1          2    Trần Kim  Xuyên  xuyên@platihub.com\n",
      "2          3  Lê Thị Thu  Huyền  huyền@platihub.com\n",
      "3          4    Kiều Ánh  Dương  dương@platihub.com\n",
      "4          5   Trần Xuân   Tiếu   tiếu@platihub.com\n"
     ]
    },
    {
     "data": {
      "text/plain": [
       "'E:/ProjectWorkspace/05. Python/02. Studyproject/04. ImplementStatistic/Test/Book2.xlsx'"
      ]
     },
     "execution_count": 19,
     "metadata": {},
     "output_type": "execute_result"
    }
   ],
   "source": [
    "import pandas as pd\n",
    "# Đọc dữ liệu từ file Excel\n",
    "file_path = 'Book1.xlsx' \n",
    "sheet_name = 'Sheet1'  # Thay thế bằng tên sheet chứa thông tin nhân viên (nếu cần)\n",
    "# Đọc dữ liệu từ file Excel vào DataFrame\n",
    "df = pd.read_excel(file_path, sheet_name=sheet_name)\n",
    "df['Alias'] = df['Tên'].apply(lambda name: f\"{name.replace(' ', '').lower()}@platihub.com\") #có thể thay bằng format khác\n",
    "# In ra thông tin nhân viên cùng với alias email để kiểm tra\n",
    "print(df)\n",
    "# Lưu kết quả vào một file Excel mới\n",
    "output_file_path = 'E:/ProjectWorkspace/05. Python/02. Studyproject/04. ImplementStatistic/Test/Book2.xlsx'\n",
    "df.to_excel(output_file_path, index=False)\n",
    "# Đường dẫn để tải file\n",
    "output_file_path"
   ]
  }
 ],
 "metadata": {
  "kernelspec": {
   "display_name": "Python 3",
   "language": "python",
   "name": "python3"
  },
  "language_info": {
   "codemirror_mode": {
    "name": "ipython",
    "version": 3
   },
   "file_extension": ".py",
   "mimetype": "text/x-python",
   "name": "python",
   "nbconvert_exporter": "python",
   "pygments_lexer": "ipython3",
   "version": "3.11.4"
  }
 },
 "nbformat": 4,
 "nbformat_minor": 2
}
